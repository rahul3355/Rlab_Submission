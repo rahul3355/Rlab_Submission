{
  "nbformat": 4,
  "nbformat_minor": 0,
  "metadata": {
    "colab": {
      "name": "Experiment6_45_48.ipynb",
      "provenance": [],
      "collapsed_sections": []
    },
    "kernelspec": {
      "name": "ir",
      "display_name": "R"
    },
    "language_info": {
      "name": "R"
    }
  },
  "cells": [
    {
      "cell_type": "markdown",
      "source": [
        "**1. GETTING AND READING DATA SET**"
      ],
      "metadata": {
        "id": "jp1DHQQEz0v5"
      }
    },
    {
      "cell_type": "code",
      "execution_count": 135,
      "metadata": {
        "colab": {
          "base_uri": "https://localhost:8080/",
          "height": 341
        },
        "id": "k2g4AVijOaGb",
        "outputId": "0bfdf50c-f8d3-4c8f-92b3-a4a9f20251c3"
      },
      "outputs": [
        {
          "output_type": "display_data",
          "data": {
            "text/html": [
              "<table class=\"dataframe\">\n",
              "<caption>A data.frame: 6 × 42</caption>\n",
              "<thead>\n",
              "\t<tr><th></th><th scope=col>ResponseId</th><th scope=col>Gender</th><th scope=col>PRN.Number</th><th scope=col>Admitted.Year</th><th scope=col>Admission.Type</th><th scope=col>Caste</th><th scope=col>Are.you.DSE..Direct.2nd.Year.Student.</th><th scope=col>Semester1</th><th scope=col>Exam.Type</th><th scope=col>Passing.Month.and.Year</th><th scope=col>⋯</th><th scope=col>Total.Marks.Obtained.3</th><th scope=col>Total.Out.of.Marks.3</th><th scope=col>SGPI.3</th><th scope=col>Semester.5</th><th scope=col>Exam.Type.4</th><th scope=col>Passing.Month.and.Year.4</th><th scope=col>Exam.Seat.Number.4</th><th scope=col>Total.Marks.Obtained.4</th><th scope=col>Total.Out.of.Marks.4</th><th scope=col>SGPI.4</th></tr>\n",
              "\t<tr><th></th><th scope=col>&lt;int&gt;</th><th scope=col>&lt;chr&gt;</th><th scope=col>&lt;chr&gt;</th><th scope=col>&lt;chr&gt;</th><th scope=col>&lt;chr&gt;</th><th scope=col>&lt;chr&gt;</th><th scope=col>&lt;chr&gt;</th><th scope=col>&lt;chr&gt;</th><th scope=col>&lt;chr&gt;</th><th scope=col>&lt;chr&gt;</th><th scope=col>⋯</th><th scope=col>&lt;chr&gt;</th><th scope=col>&lt;chr&gt;</th><th scope=col>&lt;dbl&gt;</th><th scope=col>&lt;chr&gt;</th><th scope=col>&lt;chr&gt;</th><th scope=col>&lt;chr&gt;</th><th scope=col>&lt;chr&gt;</th><th scope=col>&lt;chr&gt;</th><th scope=col>&lt;chr&gt;</th><th scope=col>&lt;dbl&gt;</th></tr>\n",
              "</thead>\n",
              "<tbody>\n",
              "\t<tr><th scope=row>1</th><td>1</td><td>Male  </td><td>2020016402315553</td><td>AY 2020-21</td><td>Diploma   </td><td>Open    </td><td>yes</td><td>          </td><td>         </td><td>            </td><td>⋯</td><td>582</td><td>775</td><td>8.57</td><td>Semester 5</td><td>C' Scheme</td><td>2021-22      </td><td>21B5601 </td><td>618</td><td>800</td><td>8.83</td></tr>\n",
              "\t<tr><th scope=row>2</th><td>2</td><td>Male  </td><td>2020016402315553</td><td>AY 2020-21</td><td>Diploma   </td><td>OPEN    </td><td>yes</td><td>          </td><td>         </td><td>            </td><td>⋯</td><td>582</td><td>776</td><td>8.57</td><td>Semester 5</td><td>C' Scheme</td><td>NOV 2021     </td><td>21B5601 </td><td>618</td><td>800</td><td>8.83</td></tr>\n",
              "\t<tr><th scope=row>3</th><td>3</td><td>Male  </td><td>NA              </td><td>AY 2021-22</td><td>Diploma   </td><td>Brahman </td><td>yes</td><td>          </td><td>         </td><td>            </td><td>⋯</td><td>528</td><td>775</td><td>7.61</td><td>Semester 5</td><td>C' Scheme</td><td>November 2021</td><td>21B 5602</td><td>527</td><td>NA </td><td>7.30</td></tr>\n",
              "\t<tr><th scope=row>4</th><td>4</td><td>Male  </td><td>2019016401511262</td><td>AY 2019-20</td><td>First Year</td><td>Obc     </td><td>No </td><td>Semester 1</td><td>C' Scheme</td><td>05  Jan 2021</td><td>⋯</td><td>587</td><td>725</td><td>8.74</td><td>Semester 5</td><td>C' Scheme</td><td>08.02.2022   </td><td>21B 5603</td><td>607</td><td>800</td><td>8.52</td></tr>\n",
              "\t<tr><th scope=row>5</th><td>5</td><td>Female</td><td>2020016402315777</td><td>AY 2021-22</td><td>Diploma   </td><td>OBC     </td><td>yes</td><td>          </td><td>         </td><td>            </td><td>⋯</td><td>610</td><td>775</td><td>9.30</td><td>Semester 5</td><td>C' Scheme</td><td>November 2021</td><td>21B 5604</td><td>620</td><td>800</td><td>8.83</td></tr>\n",
              "\t<tr><th scope=row>6</th><td>6</td><td>Male  </td><td>2019016401511784</td><td>AY 2019-20</td><td>First Year</td><td>OBC     </td><td>No </td><td>Semester 1</td><td>C' Scheme</td><td>Jan 2021    </td><td>⋯</td><td>584</td><td>775</td><td>8.78</td><td>Semester 5</td><td>C' Scheme</td><td>Feb 2022     </td><td>21B5605 </td><td>619</td><td>800</td><td>8.96</td></tr>\n",
              "</tbody>\n",
              "</table>\n"
            ],
            "text/markdown": "\nA data.frame: 6 × 42\n\n| <!--/--> | ResponseId &lt;int&gt; | Gender &lt;chr&gt; | PRN.Number &lt;chr&gt; | Admitted.Year &lt;chr&gt; | Admission.Type &lt;chr&gt; | Caste &lt;chr&gt; | Are.you.DSE..Direct.2nd.Year.Student. &lt;chr&gt; | Semester1 &lt;chr&gt; | Exam.Type &lt;chr&gt; | Passing.Month.and.Year &lt;chr&gt; | ⋯ ⋯ | Total.Marks.Obtained.3 &lt;chr&gt; | Total.Out.of.Marks.3 &lt;chr&gt; | SGPI.3 &lt;dbl&gt; | Semester.5 &lt;chr&gt; | Exam.Type.4 &lt;chr&gt; | Passing.Month.and.Year.4 &lt;chr&gt; | Exam.Seat.Number.4 &lt;chr&gt; | Total.Marks.Obtained.4 &lt;chr&gt; | Total.Out.of.Marks.4 &lt;chr&gt; | SGPI.4 &lt;dbl&gt; |\n|---|---|---|---|---|---|---|---|---|---|---|---|---|---|---|---|---|---|---|---|---|---|\n| 1 | 1 | Male   | 2020016402315553 | AY 2020-21 | Diploma    | Open     | yes | <!----> | <!----> | <!----> | ⋯ | 582 | 775 | 8.57 | Semester 5 | C' Scheme | 2021-22       | 21B5601  | 618 | 800 | 8.83 |\n| 2 | 2 | Male   | 2020016402315553 | AY 2020-21 | Diploma    | OPEN     | yes | <!----> | <!----> | <!----> | ⋯ | 582 | 776 | 8.57 | Semester 5 | C' Scheme | NOV 2021      | 21B5601  | 618 | 800 | 8.83 |\n| 3 | 3 | Male   | NA               | AY 2021-22 | Diploma    | Brahman  | yes | <!----> | <!----> | <!----> | ⋯ | 528 | 775 | 7.61 | Semester 5 | C' Scheme | November 2021 | 21B 5602 | 527 | NA  | 7.30 |\n| 4 | 4 | Male   | 2019016401511262 | AY 2019-20 | First Year | Obc      | No  | Semester 1 | C' Scheme | 05  Jan 2021 | ⋯ | 587 | 725 | 8.74 | Semester 5 | C' Scheme | 08.02.2022    | 21B 5603 | 607 | 800 | 8.52 |\n| 5 | 5 | Female | 2020016402315777 | AY 2021-22 | Diploma    | OBC      | yes | <!----> | <!----> | <!----> | ⋯ | 610 | 775 | 9.30 | Semester 5 | C' Scheme | November 2021 | 21B 5604 | 620 | 800 | 8.83 |\n| 6 | 6 | Male   | 2019016401511784 | AY 2019-20 | First Year | OBC      | No  | Semester 1 | C' Scheme | Jan 2021     | ⋯ | 584 | 775 | 8.78 | Semester 5 | C' Scheme | Feb 2022      | 21B5605  | 619 | 800 | 8.96 |\n\n",
            "text/latex": "A data.frame: 6 × 42\n\\begin{tabular}{r|lllllllllllllllllllll}\n  & ResponseId & Gender & PRN.Number & Admitted.Year & Admission.Type & Caste & Are.you.DSE..Direct.2nd.Year.Student. & Semester1 & Exam.Type & Passing.Month.and.Year & ⋯ & Total.Marks.Obtained.3 & Total.Out.of.Marks.3 & SGPI.3 & Semester.5 & Exam.Type.4 & Passing.Month.and.Year.4 & Exam.Seat.Number.4 & Total.Marks.Obtained.4 & Total.Out.of.Marks.4 & SGPI.4\\\\\n  & <int> & <chr> & <chr> & <chr> & <chr> & <chr> & <chr> & <chr> & <chr> & <chr> & ⋯ & <chr> & <chr> & <dbl> & <chr> & <chr> & <chr> & <chr> & <chr> & <chr> & <dbl>\\\\\n\\hline\n\t1 & 1 & Male   & 2020016402315553 & AY 2020-21 & Diploma    & Open     & yes &            &           &              & ⋯ & 582 & 775 & 8.57 & Semester 5 & C' Scheme & 2021-22       & 21B5601  & 618 & 800 & 8.83\\\\\n\t2 & 2 & Male   & 2020016402315553 & AY 2020-21 & Diploma    & OPEN     & yes &            &           &              & ⋯ & 582 & 776 & 8.57 & Semester 5 & C' Scheme & NOV 2021      & 21B5601  & 618 & 800 & 8.83\\\\\n\t3 & 3 & Male   & NA               & AY 2021-22 & Diploma    & Brahman  & yes &            &           &              & ⋯ & 528 & 775 & 7.61 & Semester 5 & C' Scheme & November 2021 & 21B 5602 & 527 & NA  & 7.30\\\\\n\t4 & 4 & Male   & 2019016401511262 & AY 2019-20 & First Year & Obc      & No  & Semester 1 & C' Scheme & 05  Jan 2021 & ⋯ & 587 & 725 & 8.74 & Semester 5 & C' Scheme & 08.02.2022    & 21B 5603 & 607 & 800 & 8.52\\\\\n\t5 & 5 & Female & 2020016402315777 & AY 2021-22 & Diploma    & OBC      & yes &            &           &              & ⋯ & 610 & 775 & 9.30 & Semester 5 & C' Scheme & November 2021 & 21B 5604 & 620 & 800 & 8.83\\\\\n\t6 & 6 & Male   & 2019016401511784 & AY 2019-20 & First Year & OBC      & No  & Semester 1 & C' Scheme & Jan 2021     & ⋯ & 584 & 775 & 8.78 & Semester 5 & C' Scheme & Feb 2022      & 21B5605  & 619 & 800 & 8.96\\\\\n\\end{tabular}\n",
            "text/plain": [
              "  ResponseId Gender PRN.Number       Admitted.Year Admission.Type Caste   \n",
              "1 1          Male   2020016402315553 AY 2020-21    Diploma        Open    \n",
              "2 2          Male   2020016402315553 AY 2020-21    Diploma        OPEN    \n",
              "3 3          Male   NA               AY 2021-22    Diploma        Brahman \n",
              "4 4          Male   2019016401511262 AY 2019-20    First Year     Obc     \n",
              "5 5          Female 2020016402315777 AY 2021-22    Diploma        OBC     \n",
              "6 6          Male   2019016401511784 AY 2019-20    First Year     OBC     \n",
              "  Are.you.DSE..Direct.2nd.Year.Student. Semester1  Exam.Type\n",
              "1 yes                                                       \n",
              "2 yes                                                       \n",
              "3 yes                                                       \n",
              "4 No                                    Semester 1 C' Scheme\n",
              "5 yes                                                       \n",
              "6 No                                    Semester 1 C' Scheme\n",
              "  Passing.Month.and.Year ⋯ Total.Marks.Obtained.3 Total.Out.of.Marks.3 SGPI.3\n",
              "1                        ⋯ 582                    775                  8.57  \n",
              "2                        ⋯ 582                    776                  8.57  \n",
              "3                        ⋯ 528                    775                  7.61  \n",
              "4 05  Jan 2021           ⋯ 587                    725                  8.74  \n",
              "5                        ⋯ 610                    775                  9.30  \n",
              "6 Jan 2021               ⋯ 584                    775                  8.78  \n",
              "  Semester.5 Exam.Type.4 Passing.Month.and.Year.4 Exam.Seat.Number.4\n",
              "1 Semester 5 C' Scheme   2021-22                  21B5601           \n",
              "2 Semester 5 C' Scheme   NOV 2021                 21B5601           \n",
              "3 Semester 5 C' Scheme   November 2021            21B 5602          \n",
              "4 Semester 5 C' Scheme   08.02.2022               21B 5603          \n",
              "5 Semester 5 C' Scheme   November 2021            21B 5604          \n",
              "6 Semester 5 C' Scheme   Feb 2022                 21B5605           \n",
              "  Total.Marks.Obtained.4 Total.Out.of.Marks.4 SGPI.4\n",
              "1 618                    800                  8.83  \n",
              "2 618                    800                  8.83  \n",
              "3 527                    NA                   7.30  \n",
              "4 607                    800                  8.52  \n",
              "5 620                    800                  8.83  \n",
              "6 619                    800                  8.96  "
            ]
          },
          "metadata": {}
        }
      ],
      "source": [
        "df <- read.csv(\"/content/Dataset_Exam_RSheet1.csv\")\n",
        "head(df)"
      ]
    },
    {
      "cell_type": "markdown",
      "source": [
        "**2. UNDERSTANDING DATA CONTENTS**"
      ],
      "metadata": {
        "id": "oPLuZb8v0STt"
      }
    },
    {
      "cell_type": "code",
      "source": [
        "dim(df) #dimensions"
      ],
      "metadata": {
        "colab": {
          "base_uri": "https://localhost:8080/",
          "height": 34
        },
        "id": "v1YxN3JdPsYc",
        "outputId": "b29b4dcf-86e3-4eb5-ab7b-1afc51e65381"
      },
      "execution_count": 136,
      "outputs": [
        {
          "output_type": "display_data",
          "data": {
            "text/html": [
              "<style>\n",
              ".list-inline {list-style: none; margin:0; padding: 0}\n",
              ".list-inline>li {display: inline-block}\n",
              ".list-inline>li:not(:last-child)::after {content: \"\\00b7\"; padding: 0 .5ex}\n",
              "</style>\n",
              "<ol class=list-inline><li>77</li><li>42</li></ol>\n"
            ],
            "text/markdown": "1. 77\n2. 42\n\n\n",
            "text/latex": "\\begin{enumerate*}\n\\item 77\n\\item 42\n\\end{enumerate*}\n",
            "text/plain": [
              "[1] 77 42"
            ]
          },
          "metadata": {}
        }
      ]
    },
    {
      "cell_type": "code",
      "source": [
        "str(df) #structure"
      ],
      "metadata": {
        "colab": {
          "base_uri": "https://localhost:8080/",
          "height": 0
        },
        "id": "WGE6xHH6QcbD",
        "outputId": "3118f8cd-42f5-4467-d853-0d60e3073fbd"
      },
      "execution_count": 137,
      "outputs": [
        {
          "output_type": "stream",
          "name": "stdout",
          "text": [
            "'data.frame':\t77 obs. of  42 variables:\n",
            " $ ResponseId                           : int  1 2 3 4 5 6 7 8 9 10 ...\n",
            " $ Gender                               : chr  \"Male\" \"Male\" \"Male\" \"Male\" ...\n",
            " $ PRN.Number                           : chr  \"2020016402315553\" \"2020016402315553\" NA \"2019016401511262\" ...\n",
            " $ Admitted.Year                        : chr  \"AY 2020-21\" \"AY 2020-21\" \"AY 2021-22\" \"AY 2019-20\" ...\n",
            " $ Admission.Type                       : chr  \"Diploma\" \"Diploma\" \"Diploma\" \"First Year\" ...\n",
            " $ Caste                                : chr  \"Open\" \"OPEN\" \"Brahman \" \"Obc\" ...\n",
            " $ Are.you.DSE..Direct.2nd.Year.Student.: chr  \"yes\" \"yes\" \"yes\" \"No\" ...\n",
            " $ Semester1                            : chr  \"\" \"\" \"\" \"Semester 1\" ...\n",
            " $ Exam.Type                            : chr  \"\" \"\" \"\" \"C' Scheme\" ...\n",
            " $ Passing.Month.and.Year               : chr  \"\" \"\" \"\" \"05  Jan 2021\" ...\n",
            " $ Exam.Seat.Number                     : int  NA NA NA 6036696 NA 6036697 4028747 NA NA NA ...\n",
            " $ Total.Marks.Obtained                 : num  NA NA NA 455 NA 441 445 NA NA NA ...\n",
            " $ Total.Out.of.Marks                   : num  NA NA NA 675 NA 675 675 NA NA NA ...\n",
            " $ SGPI                                 : num  NA NA NA 7.61 NA 7.58 7 NA NA NA ...\n",
            " $ Semester2                            : chr  \"\" \"\" \"\" \"Semester 2\" ...\n",
            " $ Exam.Type.1                          : chr  \"\" \"\" \"\" \"C' Scheme\" ...\n",
            " $ Passing.Month.and.Year.1             : chr  \"\" \"\" \"\" \"29 Jan  2021\" ...\n",
            " $ Exam.Seat.Number.1                   : int  NA NA NA 6021567 NA 6021568 6021569 NA NA NA ...\n",
            " $ Total.Marks.Obtained.1               : num  NA NA NA 483 NA 490 509 NA NA NA ...\n",
            " $ Total.Out.of.Marks.1                 : int  NA NA NA 725 NA 675 725 NA NA NA ...\n",
            " $ SGPI.1                               : num  NA NA NA 7.4 NA 7.63 8.03 NA NA NA ...\n",
            " $ Semester.3                           : chr  \"Semester 3\" \"Semester 3\" \"Semester 3\" \"Semester 3\" ...\n",
            " $ Exam.Type.2                          : chr  \"C' Scheme\" \"C' Scheme\" \"C' Scheme\" \"C' Scheme\" ...\n",
            " $ Passing.Month.and.Year.2             : chr  \"2020-21\" \"2020\" \"April 2021\" \"24.03.2021\" ...\n",
            " $ Exam.Seat.Number.2                   : chr  \"20B3630\" \"20B3630\" \"20B 3631\" \"20B 3601\" ...\n",
            " $ Total.Marks.Obtained.2               : chr  \"576\" \"578\" \"524\" \"574\" ...\n",
            " $ Total.Out.of.Marks.2                 : chr  \"775\" \"776\" \"775\" \"725\" ...\n",
            " $ SGPI.2                               : num  8.45 8.45 7.52 8.57 8.52 8.83 9.17 8.7 8.17 8.35 ...\n",
            " $ Semester.4                           : chr  \"Semester 4\" \"Semester 4\" \"Semester 4\" \"Semester 4\" ...\n",
            " $ Exam.Type.3                          : chr  \"C' Scheme\" \"C' Scheme\" \"C' Scheme\" \"C' Scheme\" ...\n",
            " $ Passing.Month.and.Year.3             : chr  \"2020-21\" \"June 2021\" \"June 2021\" \"30.07.2021\" ...\n",
            " $ Exam.Seat.Number.3                   : chr  \"21A4601\" \"21A4601\" \"21A4602\" \"21A 4603\" ...\n",
            " $ Total.Marks.Obtained.3               : chr  \"582\" \"582\" \"528\" \"587\" ...\n",
            " $ Total.Out.of.Marks.3                 : chr  \"775\" \"776\" \"775\" \"725\" ...\n",
            " $ SGPI.3                               : num  8.57 8.57 7.61 8.74 9.3 8.78 8.96 9.35 8.61 8.87 ...\n",
            " $ Semester.5                           : chr  \"Semester 5\" \"Semester 5\" \"Semester 5\" \"Semester 5\" ...\n",
            " $ Exam.Type.4                          : chr  \"C' Scheme\" \"C' Scheme\" \"C' Scheme\" \"C' Scheme\" ...\n",
            " $ Passing.Month.and.Year.4             : chr  \"2021-22\" \"NOV 2021\" \"November 2021\" \"08.02.2022\" ...\n",
            " $ Exam.Seat.Number.4                   : chr  \"21B5601\" \"21B5601\" \"21B 5602\" \"21B 5603\" ...\n",
            " $ Total.Marks.Obtained.4               : chr  \"618\" \"618\" \"527\" \"607\" ...\n",
            " $ Total.Out.of.Marks.4                 : chr  \"800\" \"800\" NA \"800\" ...\n",
            " $ SGPI.4                               : num  8.83 8.83 7.3 8.52 8.83 8.96 9.26 8.83 8.48 9.13 ...\n"
          ]
        }
      ]
    },
    {
      "cell_type": "code",
      "source": [
        "# getting the overall summary of data\n",
        "summary(df)"
      ],
      "metadata": {
        "colab": {
          "base_uri": "https://localhost:8080/",
          "height": 1683
        },
        "id": "3I7g1qUVQn7B",
        "outputId": "dc37f827-9bdb-40ff-ec32-78aeb2a2ff25"
      },
      "execution_count": 138,
      "outputs": [
        {
          "output_type": "display_data",
          "data": {
            "text/plain": [
              "   ResponseId    Gender           PRN.Number        Admitted.Year     \n",
              " Min.   : 1   Length:77          Length:77          Length:77         \n",
              " 1st Qu.:20   Class :character   Class :character   Class :character  \n",
              " Median :39   Mode  :character   Mode  :character   Mode  :character  \n",
              " Mean   :39                                                           \n",
              " 3rd Qu.:58                                                           \n",
              " Max.   :77                                                           \n",
              "                                                                      \n",
              " Admission.Type        Caste           Are.you.DSE..Direct.2nd.Year.Student.\n",
              " Length:77          Length:77          Length:77                            \n",
              " Class :character   Class :character   Class :character                     \n",
              " Mode  :character   Mode  :character   Mode  :character                     \n",
              "                                                                            \n",
              "                                                                            \n",
              "                                                                            \n",
              "                                                                            \n",
              "  Semester1          Exam.Type         Passing.Month.and.Year\n",
              " Length:77          Length:77          Length:77             \n",
              " Class :character   Class :character   Class :character      \n",
              " Mode  :character   Mode  :character   Mode  :character      \n",
              "                                                             \n",
              "                                                             \n",
              "                                                             \n",
              "                                                             \n",
              " Exam.Seat.Number   Total.Marks.Obtained Total.Out.of.Marks      SGPI      \n",
              " Min.   : 4028747   Min.   :  6.7        Min.   :  6.7      Min.   :5.470  \n",
              " 1st Qu.: 6036698   1st Qu.:371.2        1st Qu.:675.0      1st Qu.:6.610  \n",
              " Median : 6036705   Median :435.0        Median :675.0      Median :7.070  \n",
              " Mean   :10784685   Mean   :395.5        Mean   :644.0      Mean   :7.051  \n",
              " 3rd Qu.: 6041420   3rd Qu.:452.0        3rd Qu.:675.0      3rd Qu.:7.555  \n",
              " Max.   :82100415   Max.   :518.0        Max.   :675.0      Max.   :8.610  \n",
              " NA's   :46         NA's   :49           NA's   :49         NA's   :46     \n",
              "  Semester2         Exam.Type.1        Passing.Month.and.Year.1\n",
              " Length:77          Length:77          Length:77               \n",
              " Class :character   Class :character   Class :character        \n",
              " Mode  :character   Mode  :character   Mode  :character        \n",
              "                                                               \n",
              "                                                               \n",
              "                                                               \n",
              "                                                               \n",
              " Exam.Seat.Number.1 Total.Marks.Obtained.1 Total.Out.of.Marks.1     SGPI.1     \n",
              " Min.   : 6021567   Min.   :  6.37         Min.   : 10.0        Min.   :5.280  \n",
              " 1st Qu.: 6021574   1st Qu.:425.25         1st Qu.:725.0        1st Qu.:6.665  \n",
              " Median : 6021581   Median :485.00         Median :725.0        Median :7.180  \n",
              " Mean   :13333965   Mean   :436.66         Mean   :683.4        Mean   :7.258  \n",
              " 3rd Qu.: 6036395   3rd Qu.:504.00         3rd Qu.:725.0        3rd Qu.:7.695  \n",
              " Max.   :82200467   Max.   :615.00         Max.   :725.0        Max.   :9.550  \n",
              " NA's   :46         NA's   :49             NA's   :49           NA's   :46     \n",
              "  Semester.3        Exam.Type.2        Passing.Month.and.Year.2\n",
              " Length:77          Length:77          Length:77               \n",
              " Class :character   Class :character   Class :character        \n",
              " Mode  :character   Mode  :character   Mode  :character        \n",
              "                                                               \n",
              "                                                               \n",
              "                                                               \n",
              "                                                               \n",
              " Exam.Seat.Number.2 Total.Marks.Obtained.2 Total.Out.of.Marks.2     SGPI.2     \n",
              " Length:77          Length:77              Length:77            Min.   :6.250  \n",
              " Class :character   Class :character       Class :character     1st Qu.:8.170  \n",
              " Mode  :character   Mode  :character       Mode  :character     Median :8.450  \n",
              "                                                                Mean   :8.405  \n",
              "                                                                3rd Qu.:8.780  \n",
              "                                                                Max.   :9.520  \n",
              "                                                                NA's   :1      \n",
              "  Semester.4        Exam.Type.3        Passing.Month.and.Year.3\n",
              " Length:77          Length:77          Length:77               \n",
              " Class :character   Class :character   Class :character        \n",
              " Mode  :character   Mode  :character   Mode  :character        \n",
              "                                                               \n",
              "                                                               \n",
              "                                                               \n",
              "                                                               \n",
              " Exam.Seat.Number.3 Total.Marks.Obtained.3 Total.Out.of.Marks.3     SGPI.3     \n",
              " Length:77          Length:77              Length:77            Min.   :4.820  \n",
              " Class :character   Class :character       Class :character     1st Qu.:8.390  \n",
              " Mode  :character   Mode  :character       Mode  :character     Median :8.870  \n",
              "                                                                Mean   :8.667  \n",
              "                                                                3rd Qu.:9.230  \n",
              "                                                                Max.   :9.830  \n",
              "                                                                NA's   :1      \n",
              "  Semester.5        Exam.Type.4        Passing.Month.and.Year.4\n",
              " Length:77          Length:77          Length:77               \n",
              " Class :character   Class :character   Class :character        \n",
              " Mode  :character   Mode  :character   Mode  :character        \n",
              "                                                               \n",
              "                                                               \n",
              "                                                               \n",
              "                                                               \n",
              " Exam.Seat.Number.4 Total.Marks.Obtained.4 Total.Out.of.Marks.4     SGPI.4     \n",
              " Length:77          Length:77              Length:77            Min.   :6.740  \n",
              " Class :character   Class :character       Class :character     1st Qu.:8.290  \n",
              " Mode  :character   Mode  :character       Mode  :character     Median :8.590  \n",
              "                                                                Mean   :8.499  \n",
              "                                                                3rd Qu.:8.830  \n",
              "                                                                Max.   :9.400  \n",
              "                                                                NA's   :1      "
            ]
          },
          "metadata": {}
        }
      ]
    },
    {
      "cell_type": "markdown",
      "source": [
        "**3. DATA PREPROCESSING**"
      ],
      "metadata": {
        "id": "lJ-LzXCh0iX4"
      }
    },
    {
      "cell_type": "code",
      "source": [
        "# Data Cleaning\n",
        "# Checking for NA values\n",
        "colSums(is.na(df))"
      ],
      "metadata": {
        "colab": {
          "base_uri": "https://localhost:8080/",
          "height": 138
        },
        "id": "l0sSd4lpRKh9",
        "outputId": "f4ff0ed6-4999-4c16-fb6a-a396763c81ee"
      },
      "execution_count": 139,
      "outputs": [
        {
          "output_type": "display_data",
          "data": {
            "text/html": [
              "<style>\n",
              ".dl-inline {width: auto; margin:0; padding: 0}\n",
              ".dl-inline>dt, .dl-inline>dd {float: none; width: auto; display: inline-block}\n",
              ".dl-inline>dt::after {content: \":\\0020\"; padding-right: .5ex}\n",
              ".dl-inline>dt:not(:first-of-type) {padding-left: .5ex}\n",
              "</style><dl class=dl-inline><dt>ResponseId</dt><dd>0</dd><dt>Gender</dt><dd>0</dd><dt>PRN.Number</dt><dd>19</dd><dt>Admitted.Year</dt><dd>0</dd><dt>Admission.Type</dt><dd>0</dd><dt>Caste</dt><dd>0</dd><dt>Are.you.DSE..Direct.2nd.Year.Student.</dt><dd>0</dd><dt>Semester1</dt><dd>0</dd><dt>Exam.Type</dt><dd>0</dd><dt>Passing.Month.and.Year</dt><dd>0</dd><dt>Exam.Seat.Number</dt><dd>46</dd><dt>Total.Marks.Obtained</dt><dd>49</dd><dt>Total.Out.of.Marks</dt><dd>49</dd><dt>SGPI</dt><dd>46</dd><dt>Semester2</dt><dd>0</dd><dt>Exam.Type.1</dt><dd>0</dd><dt>Passing.Month.and.Year.1</dt><dd>0</dd><dt>Exam.Seat.Number.1</dt><dd>46</dd><dt>Total.Marks.Obtained.1</dt><dd>49</dd><dt>Total.Out.of.Marks.1</dt><dd>49</dd><dt>SGPI.1</dt><dd>46</dd><dt>Semester.3</dt><dd>0</dd><dt>Exam.Type.2</dt><dd>0</dd><dt>Passing.Month.and.Year.2</dt><dd>0</dd><dt>Exam.Seat.Number.2</dt><dd>0</dd><dt>Total.Marks.Obtained.2</dt><dd>1</dd><dt>Total.Out.of.Marks.2</dt><dd>1</dd><dt>SGPI.2</dt><dd>1</dd><dt>Semester.4</dt><dd>0</dd><dt>Exam.Type.3</dt><dd>0</dd><dt>Passing.Month.and.Year.3</dt><dd>0</dd><dt>Exam.Seat.Number.3</dt><dd>0</dd><dt>Total.Marks.Obtained.3</dt><dd>1</dd><dt>Total.Out.of.Marks.3</dt><dd>1</dd><dt>SGPI.3</dt><dd>1</dd><dt>Semester.5</dt><dd>0</dd><dt>Exam.Type.4</dt><dd>0</dd><dt>Passing.Month.and.Year.4</dt><dd>0</dd><dt>Exam.Seat.Number.4</dt><dd>0</dd><dt>Total.Marks.Obtained.4</dt><dd>2</dd><dt>Total.Out.of.Marks.4</dt><dd>3</dd><dt>SGPI.4</dt><dd>1</dd></dl>\n"
            ],
            "text/markdown": "ResponseId\n:   0Gender\n:   0PRN.Number\n:   19Admitted.Year\n:   0Admission.Type\n:   0Caste\n:   0Are.you.DSE..Direct.2nd.Year.Student.\n:   0Semester1\n:   0Exam.Type\n:   0Passing.Month.and.Year\n:   0Exam.Seat.Number\n:   46Total.Marks.Obtained\n:   49Total.Out.of.Marks\n:   49SGPI\n:   46Semester2\n:   0Exam.Type.1\n:   0Passing.Month.and.Year.1\n:   0Exam.Seat.Number.1\n:   46Total.Marks.Obtained.1\n:   49Total.Out.of.Marks.1\n:   49SGPI.1\n:   46Semester.3\n:   0Exam.Type.2\n:   0Passing.Month.and.Year.2\n:   0Exam.Seat.Number.2\n:   0Total.Marks.Obtained.2\n:   1Total.Out.of.Marks.2\n:   1SGPI.2\n:   1Semester.4\n:   0Exam.Type.3\n:   0Passing.Month.and.Year.3\n:   0Exam.Seat.Number.3\n:   0Total.Marks.Obtained.3\n:   1Total.Out.of.Marks.3\n:   1SGPI.3\n:   1Semester.5\n:   0Exam.Type.4\n:   0Passing.Month.and.Year.4\n:   0Exam.Seat.Number.4\n:   0Total.Marks.Obtained.4\n:   2Total.Out.of.Marks.4\n:   3SGPI.4\n:   1\n\n",
            "text/latex": "\\begin{description*}\n\\item[ResponseId] 0\n\\item[Gender] 0\n\\item[PRN.Number] 19\n\\item[Admitted.Year] 0\n\\item[Admission.Type] 0\n\\item[Caste] 0\n\\item[Are.you.DSE..Direct.2nd.Year.Student.] 0\n\\item[Semester1] 0\n\\item[Exam.Type] 0\n\\item[Passing.Month.and.Year] 0\n\\item[Exam.Seat.Number] 46\n\\item[Total.Marks.Obtained] 49\n\\item[Total.Out.of.Marks] 49\n\\item[SGPI] 46\n\\item[Semester2] 0\n\\item[Exam.Type.1] 0\n\\item[Passing.Month.and.Year.1] 0\n\\item[Exam.Seat.Number.1] 46\n\\item[Total.Marks.Obtained.1] 49\n\\item[Total.Out.of.Marks.1] 49\n\\item[SGPI.1] 46\n\\item[Semester.3] 0\n\\item[Exam.Type.2] 0\n\\item[Passing.Month.and.Year.2] 0\n\\item[Exam.Seat.Number.2] 0\n\\item[Total.Marks.Obtained.2] 1\n\\item[Total.Out.of.Marks.2] 1\n\\item[SGPI.2] 1\n\\item[Semester.4] 0\n\\item[Exam.Type.3] 0\n\\item[Passing.Month.and.Year.3] 0\n\\item[Exam.Seat.Number.3] 0\n\\item[Total.Marks.Obtained.3] 1\n\\item[Total.Out.of.Marks.3] 1\n\\item[SGPI.3] 1\n\\item[Semester.5] 0\n\\item[Exam.Type.4] 0\n\\item[Passing.Month.and.Year.4] 0\n\\item[Exam.Seat.Number.4] 0\n\\item[Total.Marks.Obtained.4] 2\n\\item[Total.Out.of.Marks.4] 3\n\\item[SGPI.4] 1\n\\end{description*}\n",
            "text/plain": [
              "                           ResponseId                                Gender \n",
              "                                    0                                     0 \n",
              "                           PRN.Number                         Admitted.Year \n",
              "                                   19                                     0 \n",
              "                       Admission.Type                                 Caste \n",
              "                                    0                                     0 \n",
              "Are.you.DSE..Direct.2nd.Year.Student.                             Semester1 \n",
              "                                    0                                     0 \n",
              "                            Exam.Type                Passing.Month.and.Year \n",
              "                                    0                                     0 \n",
              "                     Exam.Seat.Number                  Total.Marks.Obtained \n",
              "                                   46                                    49 \n",
              "                   Total.Out.of.Marks                                  SGPI \n",
              "                                   49                                    46 \n",
              "                            Semester2                           Exam.Type.1 \n",
              "                                    0                                     0 \n",
              "             Passing.Month.and.Year.1                    Exam.Seat.Number.1 \n",
              "                                    0                                    46 \n",
              "               Total.Marks.Obtained.1                  Total.Out.of.Marks.1 \n",
              "                                   49                                    49 \n",
              "                               SGPI.1                            Semester.3 \n",
              "                                   46                                     0 \n",
              "                          Exam.Type.2              Passing.Month.and.Year.2 \n",
              "                                    0                                     0 \n",
              "                   Exam.Seat.Number.2                Total.Marks.Obtained.2 \n",
              "                                    0                                     1 \n",
              "                 Total.Out.of.Marks.2                                SGPI.2 \n",
              "                                    1                                     1 \n",
              "                           Semester.4                           Exam.Type.3 \n",
              "                                    0                                     0 \n",
              "             Passing.Month.and.Year.3                    Exam.Seat.Number.3 \n",
              "                                    0                                     0 \n",
              "               Total.Marks.Obtained.3                  Total.Out.of.Marks.3 \n",
              "                                    1                                     1 \n",
              "                               SGPI.3                            Semester.5 \n",
              "                                    1                                     0 \n",
              "                          Exam.Type.4              Passing.Month.and.Year.4 \n",
              "                                    0                                     0 \n",
              "                   Exam.Seat.Number.4                Total.Marks.Obtained.4 \n",
              "                                    0                                     2 \n",
              "                 Total.Out.of.Marks.4                                SGPI.4 \n",
              "                                    3                                     1 "
            ]
          },
          "metadata": {}
        }
      ]
    },
    {
      "cell_type": "code",
      "source": [
        "vars <- c(\"ResponseId\", \"SGPI.2\", \"SGPI.3\", \"SGPI.4\")\n",
        "newdf <- df[vars]\n",
        "head(newdf)"
      ],
      "metadata": {
        "colab": {
          "base_uri": "https://localhost:8080/",
          "height": 286
        },
        "id": "ysOy_vexxBxK",
        "outputId": "b1865bf7-a2cb-435c-dc46-63a89024f370"
      },
      "execution_count": 140,
      "outputs": [
        {
          "output_type": "display_data",
          "data": {
            "text/html": [
              "<table class=\"dataframe\">\n",
              "<caption>A data.frame: 6 × 4</caption>\n",
              "<thead>\n",
              "\t<tr><th></th><th scope=col>ResponseId</th><th scope=col>SGPI.2</th><th scope=col>SGPI.3</th><th scope=col>SGPI.4</th></tr>\n",
              "\t<tr><th></th><th scope=col>&lt;int&gt;</th><th scope=col>&lt;dbl&gt;</th><th scope=col>&lt;dbl&gt;</th><th scope=col>&lt;dbl&gt;</th></tr>\n",
              "</thead>\n",
              "<tbody>\n",
              "\t<tr><th scope=row>1</th><td>1</td><td>8.45</td><td>8.57</td><td>8.83</td></tr>\n",
              "\t<tr><th scope=row>2</th><td>2</td><td>8.45</td><td>8.57</td><td>8.83</td></tr>\n",
              "\t<tr><th scope=row>3</th><td>3</td><td>7.52</td><td>7.61</td><td>7.30</td></tr>\n",
              "\t<tr><th scope=row>4</th><td>4</td><td>8.57</td><td>8.74</td><td>8.52</td></tr>\n",
              "\t<tr><th scope=row>5</th><td>5</td><td>8.52</td><td>9.30</td><td>8.83</td></tr>\n",
              "\t<tr><th scope=row>6</th><td>6</td><td>8.83</td><td>8.78</td><td>8.96</td></tr>\n",
              "</tbody>\n",
              "</table>\n"
            ],
            "text/markdown": "\nA data.frame: 6 × 4\n\n| <!--/--> | ResponseId &lt;int&gt; | SGPI.2 &lt;dbl&gt; | SGPI.3 &lt;dbl&gt; | SGPI.4 &lt;dbl&gt; |\n|---|---|---|---|---|\n| 1 | 1 | 8.45 | 8.57 | 8.83 |\n| 2 | 2 | 8.45 | 8.57 | 8.83 |\n| 3 | 3 | 7.52 | 7.61 | 7.30 |\n| 4 | 4 | 8.57 | 8.74 | 8.52 |\n| 5 | 5 | 8.52 | 9.30 | 8.83 |\n| 6 | 6 | 8.83 | 8.78 | 8.96 |\n\n",
            "text/latex": "A data.frame: 6 × 4\n\\begin{tabular}{r|llll}\n  & ResponseId & SGPI.2 & SGPI.3 & SGPI.4\\\\\n  & <int> & <dbl> & <dbl> & <dbl>\\\\\n\\hline\n\t1 & 1 & 8.45 & 8.57 & 8.83\\\\\n\t2 & 2 & 8.45 & 8.57 & 8.83\\\\\n\t3 & 3 & 7.52 & 7.61 & 7.30\\\\\n\t4 & 4 & 8.57 & 8.74 & 8.52\\\\\n\t5 & 5 & 8.52 & 9.30 & 8.83\\\\\n\t6 & 6 & 8.83 & 8.78 & 8.96\\\\\n\\end{tabular}\n",
            "text/plain": [
              "  ResponseId SGPI.2 SGPI.3 SGPI.4\n",
              "1 1          8.45   8.57   8.83  \n",
              "2 2          8.45   8.57   8.83  \n",
              "3 3          7.52   7.61   7.30  \n",
              "4 4          8.57   8.74   8.52  \n",
              "5 5          8.52   9.30   8.83  \n",
              "6 6          8.83   8.78   8.96  "
            ]
          },
          "metadata": {}
        }
      ]
    },
    {
      "cell_type": "code",
      "source": [
        "#Preprocessing the NA values present in SGPI of all semesters by replacing them with mean.\n",
        "\n",
        "newdf$SGPI.2[is.na(newdf$SGPI.2)] <- mean(newdf$SGPI.2, na.rm = TRUE)\n",
        "newdf$SGPI.3[is.na(newdf$SGPI.3)] <- mean(newdf$SGPI.3, na.rm = TRUE)\n",
        "newdf$SGPI.4[is.na(newdf$SGPI.4)] <- mean(newdf$SGPI.4, na.rm = TRUE)\n",
        "newdf"
      ],
      "metadata": {
        "colab": {
          "base_uri": "https://localhost:8080/",
          "height": 2010
        },
        "id": "uezLeg8rRTI5",
        "outputId": "20db9715-d023-4e61-98b6-540f7d053f9a"
      },
      "execution_count": 141,
      "outputs": [
        {
          "output_type": "display_data",
          "data": {
            "text/html": [
              "<table class=\"dataframe\">\n",
              "<caption>A data.frame: 77 × 4</caption>\n",
              "<thead>\n",
              "\t<tr><th scope=col>ResponseId</th><th scope=col>SGPI.2</th><th scope=col>SGPI.3</th><th scope=col>SGPI.4</th></tr>\n",
              "\t<tr><th scope=col>&lt;int&gt;</th><th scope=col>&lt;dbl&gt;</th><th scope=col>&lt;dbl&gt;</th><th scope=col>&lt;dbl&gt;</th></tr>\n",
              "</thead>\n",
              "<tbody>\n",
              "\t<tr><td> 1</td><td>8.45</td><td>8.57</td><td>8.83</td></tr>\n",
              "\t<tr><td> 2</td><td>8.45</td><td>8.57</td><td>8.83</td></tr>\n",
              "\t<tr><td> 3</td><td>7.52</td><td>7.61</td><td>7.30</td></tr>\n",
              "\t<tr><td> 4</td><td>8.57</td><td>8.74</td><td>8.52</td></tr>\n",
              "\t<tr><td> 5</td><td>8.52</td><td>9.30</td><td>8.83</td></tr>\n",
              "\t<tr><td> 6</td><td>8.83</td><td>8.78</td><td>8.96</td></tr>\n",
              "\t<tr><td> 7</td><td>9.17</td><td>8.96</td><td>9.26</td></tr>\n",
              "\t<tr><td> 8</td><td>8.70</td><td>9.35</td><td>8.83</td></tr>\n",
              "\t<tr><td> 9</td><td>8.17</td><td>8.61</td><td>8.48</td></tr>\n",
              "\t<tr><td>10</td><td>8.35</td><td>8.87</td><td>9.13</td></tr>\n",
              "\t<tr><td>11</td><td>6.29</td><td>5.00</td><td>8.65</td></tr>\n",
              "\t<tr><td>12</td><td>8.43</td><td>8.61</td><td>8.61</td></tr>\n",
              "\t<tr><td>13</td><td>8.22</td><td>9.09</td><td>8.30</td></tr>\n",
              "\t<tr><td>14</td><td>8.22</td><td>8.04</td><td>8.52</td></tr>\n",
              "\t<tr><td>15</td><td>8.39</td><td>8.65</td><td>8.48</td></tr>\n",
              "\t<tr><td>16</td><td>7.96</td><td>7.91</td><td>7.61</td></tr>\n",
              "\t<tr><td>17</td><td>8.65</td><td>9.17</td><td>8.96</td></tr>\n",
              "\t<tr><td>18</td><td>8.13</td><td>9.04</td><td>8.43</td></tr>\n",
              "\t<tr><td>19</td><td>8.91</td><td>8.39</td><td>8.39</td></tr>\n",
              "\t<tr><td>20</td><td>8.22</td><td>8.87</td><td>8.61</td></tr>\n",
              "\t<tr><td>21</td><td>8.78</td><td>9.00</td><td>8.30</td></tr>\n",
              "\t<tr><td>22</td><td>8.52</td><td>8.87</td><td>9.09</td></tr>\n",
              "\t<tr><td>23</td><td>8.83</td><td>9.17</td><td>8.57</td></tr>\n",
              "\t<tr><td>24</td><td>8.43</td><td>8.61</td><td>8.52</td></tr>\n",
              "\t<tr><td>25</td><td>9.22</td><td>9.70</td><td>9.30</td></tr>\n",
              "\t<tr><td>26</td><td>9.22</td><td>9.74</td><td>9.13</td></tr>\n",
              "\t<tr><td>27</td><td>6.91</td><td>7.75</td><td>7.83</td></tr>\n",
              "\t<tr><td>28</td><td>7.70</td><td>6.71</td><td>6.74</td></tr>\n",
              "\t<tr><td>29</td><td>8.65</td><td>8.66</td><td>8.74</td></tr>\n",
              "\t<tr><td>30</td><td>9.17</td><td>9.30</td><td>8.65</td></tr>\n",
              "\t<tr><td>⋮</td><td>⋮</td><td>⋮</td><td>⋮</td></tr>\n",
              "\t<tr><td>48</td><td>7.390000</td><td>7.750000</td><td>7.830000</td></tr>\n",
              "\t<tr><td>49</td><td>8.130000</td><td>8.650000</td><td>8.780000</td></tr>\n",
              "\t<tr><td>50</td><td>8.480000</td><td>8.740000</td><td>8.130000</td></tr>\n",
              "\t<tr><td>51</td><td>8.220000</td><td>8.390000</td><td>8.430000</td></tr>\n",
              "\t<tr><td>52</td><td>8.610000</td><td>8.870000</td><td>8.260000</td></tr>\n",
              "\t<tr><td>53</td><td>8.650000</td><td>9.300000</td><td>8.610000</td></tr>\n",
              "\t<tr><td>54</td><td>8.960000</td><td>9.260000</td><td>9.400000</td></tr>\n",
              "\t<tr><td>55</td><td>6.250000</td><td>4.820000</td><td>7.830000</td></tr>\n",
              "\t<tr><td>56</td><td>7.650000</td><td>7.570000</td><td>7.520000</td></tr>\n",
              "\t<tr><td>57</td><td>8.700000</td><td>8.870000</td><td>8.430000</td></tr>\n",
              "\t<tr><td>58</td><td>8.170000</td><td>8.170000</td><td>7.430000</td></tr>\n",
              "\t<tr><td>59</td><td>9.000000</td><td>9.000000</td><td>8.610000</td></tr>\n",
              "\t<tr><td>60</td><td>9.300000</td><td>8.870000</td><td>8.520000</td></tr>\n",
              "\t<tr><td>61</td><td>8.570000</td><td>9.830000</td><td>8.780000</td></tr>\n",
              "\t<tr><td>62</td><td>7.520000</td><td>7.830000</td><td>9.090000</td></tr>\n",
              "\t<tr><td>63</td><td>8.910000</td><td>9.610000</td><td>9.220000</td></tr>\n",
              "\t<tr><td>64</td><td>8.960000</td><td>9.780000</td><td>8.650000</td></tr>\n",
              "\t<tr><td>65</td><td>8.610000</td><td>9.430000</td><td>8.480000</td></tr>\n",
              "\t<tr><td>66</td><td>8.300000</td><td>9.670000</td><td>8.830000</td></tr>\n",
              "\t<tr><td>67</td><td>7.910000</td><td>8.780000</td><td>8.350000</td></tr>\n",
              "\t<tr><td>68</td><td>8.520000</td><td>8.130000</td><td>8.780000</td></tr>\n",
              "\t<tr><td>69</td><td>9.130000</td><td>9.130000</td><td>8.740000</td></tr>\n",
              "\t<tr><td>70</td><td>8.870000</td><td>9.260000</td><td>8.830000</td></tr>\n",
              "\t<tr><td>71</td><td>8.300000</td><td>8.520000</td><td>7.610000</td></tr>\n",
              "\t<tr><td>72</td><td>8.520000</td><td>8.910000</td><td>8.960000</td></tr>\n",
              "\t<tr><td>73</td><td>8.740000</td><td>9.090000</td><td>9.000000</td></tr>\n",
              "\t<tr><td>74</td><td>7.700000</td><td>9.040000</td><td>8.090000</td></tr>\n",
              "\t<tr><td>75</td><td>8.404605</td><td>8.667105</td><td>8.498816</td></tr>\n",
              "\t<tr><td>76</td><td>8.780000</td><td>9.260000</td><td>8.650000</td></tr>\n",
              "\t<tr><td>77</td><td>8.780000</td><td>9.260000</td><td>8.650000</td></tr>\n",
              "</tbody>\n",
              "</table>\n"
            ],
            "text/markdown": "\nA data.frame: 77 × 4\n\n| ResponseId &lt;int&gt; | SGPI.2 &lt;dbl&gt; | SGPI.3 &lt;dbl&gt; | SGPI.4 &lt;dbl&gt; |\n|---|---|---|---|\n|  1 | 8.45 | 8.57 | 8.83 |\n|  2 | 8.45 | 8.57 | 8.83 |\n|  3 | 7.52 | 7.61 | 7.30 |\n|  4 | 8.57 | 8.74 | 8.52 |\n|  5 | 8.52 | 9.30 | 8.83 |\n|  6 | 8.83 | 8.78 | 8.96 |\n|  7 | 9.17 | 8.96 | 9.26 |\n|  8 | 8.70 | 9.35 | 8.83 |\n|  9 | 8.17 | 8.61 | 8.48 |\n| 10 | 8.35 | 8.87 | 9.13 |\n| 11 | 6.29 | 5.00 | 8.65 |\n| 12 | 8.43 | 8.61 | 8.61 |\n| 13 | 8.22 | 9.09 | 8.30 |\n| 14 | 8.22 | 8.04 | 8.52 |\n| 15 | 8.39 | 8.65 | 8.48 |\n| 16 | 7.96 | 7.91 | 7.61 |\n| 17 | 8.65 | 9.17 | 8.96 |\n| 18 | 8.13 | 9.04 | 8.43 |\n| 19 | 8.91 | 8.39 | 8.39 |\n| 20 | 8.22 | 8.87 | 8.61 |\n| 21 | 8.78 | 9.00 | 8.30 |\n| 22 | 8.52 | 8.87 | 9.09 |\n| 23 | 8.83 | 9.17 | 8.57 |\n| 24 | 8.43 | 8.61 | 8.52 |\n| 25 | 9.22 | 9.70 | 9.30 |\n| 26 | 9.22 | 9.74 | 9.13 |\n| 27 | 6.91 | 7.75 | 7.83 |\n| 28 | 7.70 | 6.71 | 6.74 |\n| 29 | 8.65 | 8.66 | 8.74 |\n| 30 | 9.17 | 9.30 | 8.65 |\n| ⋮ | ⋮ | ⋮ | ⋮ |\n| 48 | 7.390000 | 7.750000 | 7.830000 |\n| 49 | 8.130000 | 8.650000 | 8.780000 |\n| 50 | 8.480000 | 8.740000 | 8.130000 |\n| 51 | 8.220000 | 8.390000 | 8.430000 |\n| 52 | 8.610000 | 8.870000 | 8.260000 |\n| 53 | 8.650000 | 9.300000 | 8.610000 |\n| 54 | 8.960000 | 9.260000 | 9.400000 |\n| 55 | 6.250000 | 4.820000 | 7.830000 |\n| 56 | 7.650000 | 7.570000 | 7.520000 |\n| 57 | 8.700000 | 8.870000 | 8.430000 |\n| 58 | 8.170000 | 8.170000 | 7.430000 |\n| 59 | 9.000000 | 9.000000 | 8.610000 |\n| 60 | 9.300000 | 8.870000 | 8.520000 |\n| 61 | 8.570000 | 9.830000 | 8.780000 |\n| 62 | 7.520000 | 7.830000 | 9.090000 |\n| 63 | 8.910000 | 9.610000 | 9.220000 |\n| 64 | 8.960000 | 9.780000 | 8.650000 |\n| 65 | 8.610000 | 9.430000 | 8.480000 |\n| 66 | 8.300000 | 9.670000 | 8.830000 |\n| 67 | 7.910000 | 8.780000 | 8.350000 |\n| 68 | 8.520000 | 8.130000 | 8.780000 |\n| 69 | 9.130000 | 9.130000 | 8.740000 |\n| 70 | 8.870000 | 9.260000 | 8.830000 |\n| 71 | 8.300000 | 8.520000 | 7.610000 |\n| 72 | 8.520000 | 8.910000 | 8.960000 |\n| 73 | 8.740000 | 9.090000 | 9.000000 |\n| 74 | 7.700000 | 9.040000 | 8.090000 |\n| 75 | 8.404605 | 8.667105 | 8.498816 |\n| 76 | 8.780000 | 9.260000 | 8.650000 |\n| 77 | 8.780000 | 9.260000 | 8.650000 |\n\n",
            "text/latex": "A data.frame: 77 × 4\n\\begin{tabular}{llll}\n ResponseId & SGPI.2 & SGPI.3 & SGPI.4\\\\\n <int> & <dbl> & <dbl> & <dbl>\\\\\n\\hline\n\t  1 & 8.45 & 8.57 & 8.83\\\\\n\t  2 & 8.45 & 8.57 & 8.83\\\\\n\t  3 & 7.52 & 7.61 & 7.30\\\\\n\t  4 & 8.57 & 8.74 & 8.52\\\\\n\t  5 & 8.52 & 9.30 & 8.83\\\\\n\t  6 & 8.83 & 8.78 & 8.96\\\\\n\t  7 & 9.17 & 8.96 & 9.26\\\\\n\t  8 & 8.70 & 9.35 & 8.83\\\\\n\t  9 & 8.17 & 8.61 & 8.48\\\\\n\t 10 & 8.35 & 8.87 & 9.13\\\\\n\t 11 & 6.29 & 5.00 & 8.65\\\\\n\t 12 & 8.43 & 8.61 & 8.61\\\\\n\t 13 & 8.22 & 9.09 & 8.30\\\\\n\t 14 & 8.22 & 8.04 & 8.52\\\\\n\t 15 & 8.39 & 8.65 & 8.48\\\\\n\t 16 & 7.96 & 7.91 & 7.61\\\\\n\t 17 & 8.65 & 9.17 & 8.96\\\\\n\t 18 & 8.13 & 9.04 & 8.43\\\\\n\t 19 & 8.91 & 8.39 & 8.39\\\\\n\t 20 & 8.22 & 8.87 & 8.61\\\\\n\t 21 & 8.78 & 9.00 & 8.30\\\\\n\t 22 & 8.52 & 8.87 & 9.09\\\\\n\t 23 & 8.83 & 9.17 & 8.57\\\\\n\t 24 & 8.43 & 8.61 & 8.52\\\\\n\t 25 & 9.22 & 9.70 & 9.30\\\\\n\t 26 & 9.22 & 9.74 & 9.13\\\\\n\t 27 & 6.91 & 7.75 & 7.83\\\\\n\t 28 & 7.70 & 6.71 & 6.74\\\\\n\t 29 & 8.65 & 8.66 & 8.74\\\\\n\t 30 & 9.17 & 9.30 & 8.65\\\\\n\t ⋮ & ⋮ & ⋮ & ⋮\\\\\n\t 48 & 7.390000 & 7.750000 & 7.830000\\\\\n\t 49 & 8.130000 & 8.650000 & 8.780000\\\\\n\t 50 & 8.480000 & 8.740000 & 8.130000\\\\\n\t 51 & 8.220000 & 8.390000 & 8.430000\\\\\n\t 52 & 8.610000 & 8.870000 & 8.260000\\\\\n\t 53 & 8.650000 & 9.300000 & 8.610000\\\\\n\t 54 & 8.960000 & 9.260000 & 9.400000\\\\\n\t 55 & 6.250000 & 4.820000 & 7.830000\\\\\n\t 56 & 7.650000 & 7.570000 & 7.520000\\\\\n\t 57 & 8.700000 & 8.870000 & 8.430000\\\\\n\t 58 & 8.170000 & 8.170000 & 7.430000\\\\\n\t 59 & 9.000000 & 9.000000 & 8.610000\\\\\n\t 60 & 9.300000 & 8.870000 & 8.520000\\\\\n\t 61 & 8.570000 & 9.830000 & 8.780000\\\\\n\t 62 & 7.520000 & 7.830000 & 9.090000\\\\\n\t 63 & 8.910000 & 9.610000 & 9.220000\\\\\n\t 64 & 8.960000 & 9.780000 & 8.650000\\\\\n\t 65 & 8.610000 & 9.430000 & 8.480000\\\\\n\t 66 & 8.300000 & 9.670000 & 8.830000\\\\\n\t 67 & 7.910000 & 8.780000 & 8.350000\\\\\n\t 68 & 8.520000 & 8.130000 & 8.780000\\\\\n\t 69 & 9.130000 & 9.130000 & 8.740000\\\\\n\t 70 & 8.870000 & 9.260000 & 8.830000\\\\\n\t 71 & 8.300000 & 8.520000 & 7.610000\\\\\n\t 72 & 8.520000 & 8.910000 & 8.960000\\\\\n\t 73 & 8.740000 & 9.090000 & 9.000000\\\\\n\t 74 & 7.700000 & 9.040000 & 8.090000\\\\\n\t 75 & 8.404605 & 8.667105 & 8.498816\\\\\n\t 76 & 8.780000 & 9.260000 & 8.650000\\\\\n\t 77 & 8.780000 & 9.260000 & 8.650000\\\\\n\\end{tabular}\n",
            "text/plain": [
              "   ResponseId SGPI.2   SGPI.3   SGPI.4  \n",
              "1   1         8.45     8.57     8.83    \n",
              "2   2         8.45     8.57     8.83    \n",
              "3   3         7.52     7.61     7.30    \n",
              "4   4         8.57     8.74     8.52    \n",
              "5   5         8.52     9.30     8.83    \n",
              "6   6         8.83     8.78     8.96    \n",
              "7   7         9.17     8.96     9.26    \n",
              "8   8         8.70     9.35     8.83    \n",
              "9   9         8.17     8.61     8.48    \n",
              "10 10         8.35     8.87     9.13    \n",
              "11 11         6.29     5.00     8.65    \n",
              "12 12         8.43     8.61     8.61    \n",
              "13 13         8.22     9.09     8.30    \n",
              "14 14         8.22     8.04     8.52    \n",
              "15 15         8.39     8.65     8.48    \n",
              "16 16         7.96     7.91     7.61    \n",
              "17 17         8.65     9.17     8.96    \n",
              "18 18         8.13     9.04     8.43    \n",
              "19 19         8.91     8.39     8.39    \n",
              "20 20         8.22     8.87     8.61    \n",
              "21 21         8.78     9.00     8.30    \n",
              "22 22         8.52     8.87     9.09    \n",
              "23 23         8.83     9.17     8.57    \n",
              "24 24         8.43     8.61     8.52    \n",
              "25 25         9.22     9.70     9.30    \n",
              "26 26         9.22     9.74     9.13    \n",
              "27 27         6.91     7.75     7.83    \n",
              "28 28         7.70     6.71     6.74    \n",
              "29 29         8.65     8.66     8.74    \n",
              "30 30         9.17     9.30     8.65    \n",
              "⋮  ⋮          ⋮        ⋮        ⋮       \n",
              "48 48         7.390000 7.750000 7.830000\n",
              "49 49         8.130000 8.650000 8.780000\n",
              "50 50         8.480000 8.740000 8.130000\n",
              "51 51         8.220000 8.390000 8.430000\n",
              "52 52         8.610000 8.870000 8.260000\n",
              "53 53         8.650000 9.300000 8.610000\n",
              "54 54         8.960000 9.260000 9.400000\n",
              "55 55         6.250000 4.820000 7.830000\n",
              "56 56         7.650000 7.570000 7.520000\n",
              "57 57         8.700000 8.870000 8.430000\n",
              "58 58         8.170000 8.170000 7.430000\n",
              "59 59         9.000000 9.000000 8.610000\n",
              "60 60         9.300000 8.870000 8.520000\n",
              "61 61         8.570000 9.830000 8.780000\n",
              "62 62         7.520000 7.830000 9.090000\n",
              "63 63         8.910000 9.610000 9.220000\n",
              "64 64         8.960000 9.780000 8.650000\n",
              "65 65         8.610000 9.430000 8.480000\n",
              "66 66         8.300000 9.670000 8.830000\n",
              "67 67         7.910000 8.780000 8.350000\n",
              "68 68         8.520000 8.130000 8.780000\n",
              "69 69         9.130000 9.130000 8.740000\n",
              "70 70         8.870000 9.260000 8.830000\n",
              "71 71         8.300000 8.520000 7.610000\n",
              "72 72         8.520000 8.910000 8.960000\n",
              "73 73         8.740000 9.090000 9.000000\n",
              "74 74         7.700000 9.040000 8.090000\n",
              "75 75         8.404605 8.667105 8.498816\n",
              "76 76         8.780000 9.260000 8.650000\n",
              "77 77         8.780000 9.260000 8.650000"
            ]
          },
          "metadata": {}
        }
      ]
    },
    {
      "cell_type": "markdown",
      "source": [
        "**4. Asking 2-3 different analystical questions**\n",
        "\n",
        "---\n",
        "\n",
        "Q1) What are the SGPI of students in semester 3? What are maximum,\n",
        "minimum and average SGPI of the same semester?"
      ],
      "metadata": {
        "id": "Nl68DjqFc1UP"
      }
    },
    {
      "cell_type": "markdown",
      "source": [
        "Here, we can see a graphical distribution semester 3 SGPI with highest being at 9.4, lowest being 6.74 and average being 8.49 "
      ],
      "metadata": {
        "id": "Wimbv4hJWtY8"
      }
    },
    {
      "cell_type": "code",
      "source": [
        "plot(df$`SGPI.4`,type=\"o\",col=\"red\",xlab=\"Roll no.\", ylab=\"SGPI\")\n",
        "summary(df$`SGPI.4`)"
      ],
      "metadata": {
        "colab": {
          "base_uri": "https://localhost:8080/",
          "height": 472
        },
        "id": "dFBugVRkYg1G",
        "outputId": "8a5e785e-1e1e-4b21-a2e9-af315e1275fd"
      },
      "execution_count": 151,
      "outputs": [
        {
          "output_type": "display_data",
          "data": {
            "text/plain": [
              "   Min. 1st Qu.  Median    Mean 3rd Qu.    Max.    NA's \n",
              "  6.740   8.290   8.590   8.499   8.830   9.400       1 "
            ]
          },
          "metadata": {}
        },
        {
          "output_type": "display_data",
          "data": {
            "text/plain": [
              "plot without title"
            ],
            "image/png": "[encoded data removed]"
          },
          "metadata": {
            "image/png": {
              "width": 420,
              "height": 420
            }
          }
        }
      ]
    },
    {
      "cell_type": "markdown",
      "source": [
        "Q2) What group of students are more, Diploma or First Year?"
      ],
      "metadata": {
        "id": "Nndljz3a1XwY"
      }
    },
    {
      "cell_type": "markdown",
      "source": [
        "Here, we observe that number of Diploma students are more than First Year students"
      ],
      "metadata": {
        "id": "vCTAD5EodV7e"
      }
    },
    {
      "cell_type": "code",
      "source": [
        "barplot(table(df$Admission.Type), col=\"skyblue\")"
      ],
      "metadata": {
        "colab": {
          "base_uri": "https://localhost:8080/",
          "height": 437
        },
        "id": "DGZKrkmnTOxq",
        "outputId": "16300a17-7ac2-417d-fe8b-3438bc3763fa"
      },
      "execution_count": 143,
      "outputs": [
        {
          "output_type": "display_data",
          "data": {
            "text/plain": [
              "plot without title"
            ],
            "image/png": "[encoded data removed]"
          },
          "metadata": {
            "image/png": {
              "width": 420,
              "height": 420
            }
          }
        }
      ]
    },
    {
      "cell_type": "markdown",
      "source": [
        "Q3) What is the gender of majority of students? By how much does it lead?"
      ],
      "metadata": {
        "id": "gImEHOCn1xJ6"
      }
    },
    {
      "cell_type": "code",
      "source": [
        "barplot(table(df$Gender), col = \"pink\")"
      ],
      "metadata": {
        "colab": {
          "base_uri": "https://localhost:8080/",
          "height": 437
        },
        "id": "OsABAYniayxH",
        "outputId": "5e04ccb3-33d1-46dc-a497-3553907ae313"
      },
      "execution_count": 150,
      "outputs": [
        {
          "output_type": "display_data",
          "data": {
            "text/plain": [
              "plot without title"
            ],
            "image/png": "[encoded data removed]"
          },
          "metadata": {
            "image/png": {
              "width": 420,
              "height": 420
            }
          }
        }
      ]
    },
    {
      "cell_type": "markdown",
      "source": [
        "Here we observe that number of male students are more than twice the number of female students"
      ],
      "metadata": {
        "id": "U1H9fLAzdE-D"
      }
    },
    {
      "cell_type": "markdown",
      "source": [
        "**5. Machine Learning Problem**\n",
        "\n",
        "\n",
        "---\n",
        "\n",
        "Defining problem: Creating a Machine Learning model which predicts the SGPI of next semester by processing SGPIs of previous semesters.\n",
        "\n",
        "---\n",
        "\n",
        "Model used: Linear Regression\n",
        "\n",
        "---\n",
        "\n"
      ],
      "metadata": {
        "id": "JQmc_PQo2Neo"
      }
    },
    {
      "cell_type": "code",
      "source": [
        "set.seed(30)\n",
        "# Train Test Split\n",
        "train_index <- sample(1:nrow(newdf), 0.8 * nrow(newdf))\n",
        "test_index <- setdiff(1:nrow(newdf), train_index)\n",
        "X_train <- newdf[train_index, -15]\n",
        "y_train <- newdf[train_index, \"SGPI.4\"]\n",
        "X_test <- newdf[test_index, -15]\n",
        "y_test <- newdf[test_index, \"SGPI.4\"]\n",
        "head(X_train)"
      ],
      "metadata": {
        "colab": {
          "base_uri": "https://localhost:8080/",
          "height": 286
        },
        "id": "8x-lXIGipF10",
        "outputId": "b17d259e-d5e8-4e06-db33-fbf85e9ab18d"
      },
      "execution_count": 145,
      "outputs": [
        {
          "output_type": "display_data",
          "data": {
            "text/html": [
              "<table class=\"dataframe\">\n",
              "<caption>A data.frame: 6 × 4</caption>\n",
              "<thead>\n",
              "\t<tr><th></th><th scope=col>ResponseId</th><th scope=col>SGPI.2</th><th scope=col>SGPI.3</th><th scope=col>SGPI.4</th></tr>\n",
              "\t<tr><th></th><th scope=col>&lt;int&gt;</th><th scope=col>&lt;dbl&gt;</th><th scope=col>&lt;dbl&gt;</th><th scope=col>&lt;dbl&gt;</th></tr>\n",
              "</thead>\n",
              "<tbody>\n",
              "\t<tr><th scope=row>74</th><td>74</td><td>7.70</td><td>9.04</td><td>8.09</td></tr>\n",
              "\t<tr><th scope=row>50</th><td>50</td><td>8.48</td><td>8.74</td><td>8.13</td></tr>\n",
              "\t<tr><th scope=row>46</th><td>46</td><td>7.91</td><td>8.39</td><td>8.43</td></tr>\n",
              "\t<tr><th scope=row>13</th><td>13</td><td>8.22</td><td>9.09</td><td>8.30</td></tr>\n",
              "\t<tr><th scope=row>10</th><td>10</td><td>8.35</td><td>8.87</td><td>9.13</td></tr>\n",
              "\t<tr><th scope=row>59</th><td>59</td><td>9.00</td><td>9.00</td><td>8.61</td></tr>\n",
              "</tbody>\n",
              "</table>\n"
            ],
            "text/markdown": "\nA data.frame: 6 × 4\n\n| <!--/--> | ResponseId &lt;int&gt; | SGPI.2 &lt;dbl&gt; | SGPI.3 &lt;dbl&gt; | SGPI.4 &lt;dbl&gt; |\n|---|---|---|---|---|\n| 74 | 74 | 7.70 | 9.04 | 8.09 |\n| 50 | 50 | 8.48 | 8.74 | 8.13 |\n| 46 | 46 | 7.91 | 8.39 | 8.43 |\n| 13 | 13 | 8.22 | 9.09 | 8.30 |\n| 10 | 10 | 8.35 | 8.87 | 9.13 |\n| 59 | 59 | 9.00 | 9.00 | 8.61 |\n\n",
            "text/latex": "A data.frame: 6 × 4\n\\begin{tabular}{r|llll}\n  & ResponseId & SGPI.2 & SGPI.3 & SGPI.4\\\\\n  & <int> & <dbl> & <dbl> & <dbl>\\\\\n\\hline\n\t74 & 74 & 7.70 & 9.04 & 8.09\\\\\n\t50 & 50 & 8.48 & 8.74 & 8.13\\\\\n\t46 & 46 & 7.91 & 8.39 & 8.43\\\\\n\t13 & 13 & 8.22 & 9.09 & 8.30\\\\\n\t10 & 10 & 8.35 & 8.87 & 9.13\\\\\n\t59 & 59 & 9.00 & 9.00 & 8.61\\\\\n\\end{tabular}\n",
            "text/plain": [
              "   ResponseId SGPI.2 SGPI.3 SGPI.4\n",
              "74 74         7.70   9.04   8.09  \n",
              "50 50         8.48   8.74   8.13  \n",
              "46 46         7.91   8.39   8.43  \n",
              "13 13         8.22   9.09   8.30  \n",
              "10 10         8.35   8.87   9.13  \n",
              "59 59         9.00   9.00   8.61  "
            ]
          },
          "metadata": {}
        }
      ]
    },
    {
      "cell_type": "code",
      "source": [
        "head(X_test)\n",
        "head(y_test)"
      ],
      "metadata": {
        "colab": {
          "base_uri": "https://localhost:8080/",
          "height": 304
        },
        "id": "fp-Ewd6dyo6D",
        "outputId": "c8d43c91-205f-4cd9-f26a-b3c7c7333606"
      },
      "execution_count": 146,
      "outputs": [
        {
          "output_type": "display_data",
          "data": {
            "text/html": [
              "<table class=\"dataframe\">\n",
              "<caption>A data.frame: 6 × 4</caption>\n",
              "<thead>\n",
              "\t<tr><th></th><th scope=col>ResponseId</th><th scope=col>SGPI.2</th><th scope=col>SGPI.3</th><th scope=col>SGPI.4</th></tr>\n",
              "\t<tr><th></th><th scope=col>&lt;int&gt;</th><th scope=col>&lt;dbl&gt;</th><th scope=col>&lt;dbl&gt;</th><th scope=col>&lt;dbl&gt;</th></tr>\n",
              "</thead>\n",
              "<tbody>\n",
              "\t<tr><th scope=row>7</th><td> 7</td><td>9.17</td><td>8.96</td><td>9.26</td></tr>\n",
              "\t<tr><th scope=row>22</th><td>22</td><td>8.52</td><td>8.87</td><td>9.09</td></tr>\n",
              "\t<tr><th scope=row>24</th><td>24</td><td>8.43</td><td>8.61</td><td>8.52</td></tr>\n",
              "\t<tr><th scope=row>30</th><td>30</td><td>9.17</td><td>9.30</td><td>8.65</td></tr>\n",
              "\t<tr><th scope=row>31</th><td>31</td><td>8.39</td><td>8.65</td><td>8.00</td></tr>\n",
              "\t<tr><th scope=row>36</th><td>36</td><td>7.70</td><td>7.74</td><td>7.65</td></tr>\n",
              "</tbody>\n",
              "</table>\n"
            ],
            "text/markdown": "\nA data.frame: 6 × 4\n\n| <!--/--> | ResponseId &lt;int&gt; | SGPI.2 &lt;dbl&gt; | SGPI.3 &lt;dbl&gt; | SGPI.4 &lt;dbl&gt; |\n|---|---|---|---|---|\n| 7 |  7 | 9.17 | 8.96 | 9.26 |\n| 22 | 22 | 8.52 | 8.87 | 9.09 |\n| 24 | 24 | 8.43 | 8.61 | 8.52 |\n| 30 | 30 | 9.17 | 9.30 | 8.65 |\n| 31 | 31 | 8.39 | 8.65 | 8.00 |\n| 36 | 36 | 7.70 | 7.74 | 7.65 |\n\n",
            "text/latex": "A data.frame: 6 × 4\n\\begin{tabular}{r|llll}\n  & ResponseId & SGPI.2 & SGPI.3 & SGPI.4\\\\\n  & <int> & <dbl> & <dbl> & <dbl>\\\\\n\\hline\n\t7 &  7 & 9.17 & 8.96 & 9.26\\\\\n\t22 & 22 & 8.52 & 8.87 & 9.09\\\\\n\t24 & 24 & 8.43 & 8.61 & 8.52\\\\\n\t30 & 30 & 9.17 & 9.30 & 8.65\\\\\n\t31 & 31 & 8.39 & 8.65 & 8.00\\\\\n\t36 & 36 & 7.70 & 7.74 & 7.65\\\\\n\\end{tabular}\n",
            "text/plain": [
              "   ResponseId SGPI.2 SGPI.3 SGPI.4\n",
              "7   7         9.17   8.96   9.26  \n",
              "22 22         8.52   8.87   9.09  \n",
              "24 24         8.43   8.61   8.52  \n",
              "30 30         9.17   9.30   8.65  \n",
              "31 31         8.39   8.65   8.00  \n",
              "36 36         7.70   7.74   7.65  "
            ]
          },
          "metadata": {}
        },
        {
          "output_type": "display_data",
          "data": {
            "text/html": [
              "<style>\n",
              ".list-inline {list-style: none; margin:0; padding: 0}\n",
              ".list-inline>li {display: inline-block}\n",
              ".list-inline>li:not(:last-child)::after {content: \"\\00b7\"; padding: 0 .5ex}\n",
              "</style>\n",
              "<ol class=list-inline><li>9.26</li><li>9.09</li><li>8.52</li><li>8.65</li><li>8</li><li>7.65</li></ol>\n"
            ],
            "text/markdown": "1. 9.26\n2. 9.09\n3. 8.52\n4. 8.65\n5. 8\n6. 7.65\n\n\n",
            "text/latex": "\\begin{enumerate*}\n\\item 9.26\n\\item 9.09\n\\item 8.52\n\\item 8.65\n\\item 8\n\\item 7.65\n\\end{enumerate*}\n",
            "text/plain": [
              "[1] 9.26 9.09 8.52 8.65 8.00 7.65"
            ]
          },
          "metadata": {}
        }
      ]
    },
    {
      "cell_type": "code",
      "source": [
        "library(readxl)\n",
        "Sem5 = lm(SGPI.4 ~ SGPI.2+SGPI.3 , data = newdf)\n",
        "summary(Sem5)\n",
        "AIC(Sem5)\n",
        "BIC(Sem5)"
      ],
      "metadata": {
        "colab": {
          "base_uri": "https://localhost:8080/",
          "height": 381
        },
        "id": "_SS7D7m3sVwT",
        "outputId": "5115ee78-8432-4cbe-e9de-1ee49eb51ecc"
      },
      "execution_count": 147,
      "outputs": [
        {
          "output_type": "display_data",
          "data": {
            "text/plain": [
              "\n",
              "Call:\n",
              "lm(formula = SGPI.4 ~ SGPI.2 + SGPI.3, data = newdf)\n",
              "\n",
              "Residuals:\n",
              "    Min      1Q  Median      3Q     Max \n",
              "-1.2310 -0.2067  0.0000  0.3076  1.3617 \n",
              "\n",
              "Coefficients:\n",
              "            Estimate Std. Error t value Pr(>|t|)    \n",
              "(Intercept)   4.6877     0.6975   6.721 3.24e-09 ***\n",
              "SGPI.2        0.2789     0.1501   1.858   0.0671 .  \n",
              "SGPI.3        0.1693     0.1048   1.615   0.1107    \n",
              "---\n",
              "Signif. codes:  0 ‘***’ 0.001 ‘**’ 0.01 ‘*’ 0.05 ‘.’ 0.1 ‘ ’ 1\n",
              "\n",
              "Residual standard error: 0.4347 on 74 degrees of freedom\n",
              "Multiple R-squared:  0.3421,\tAdjusted R-squared:  0.3243 \n",
              "F-statistic: 19.24 on 2 and 74 DF,  p-value: 1.872e-07\n"
            ]
          },
          "metadata": {}
        },
        {
          "output_type": "display_data",
          "data": {
            "text/html": [
              "95.1506405378495"
            ],
            "text/markdown": "95.1506405378495",
            "text/latex": "95.1506405378495",
            "text/plain": [
              "[1] 95.15064"
            ]
          },
          "metadata": {}
        },
        {
          "output_type": "display_data",
          "data": {
            "text/html": [
              "104.525862225264"
            ],
            "text/markdown": "104.525862225264",
            "text/latex": "104.525862225264",
            "text/plain": [
              "[1] 104.5259"
            ]
          },
          "metadata": {}
        }
      ]
    },
    {
      "cell_type": "code",
      "source": [
        "distPred <- predict(Sem5, X_test)\n",
        "actuals_preds <- data.frame(cbind(actuals=X_test$SGPI.4, predicteds=distPred))\n",
        "min_max_accuracy <- mean(apply(actuals_preds, 1, min) / apply(actuals_preds, 1, max))\n",
        "print(min_max_accuracy)\n",
        "mape <- mean(abs((actuals_preds$predicteds - actuals_preds$actuals))/actuals_preds$actuals)\n",
        "print(mape)"
      ],
      "metadata": {
        "colab": {
          "base_uri": "https://localhost:8080/",
          "height": 0
        },
        "id": "tVXp0fwaursD",
        "outputId": "1ae97731-a5f9-45d6-a9cb-191011cc4e6b"
      },
      "execution_count": 148,
      "outputs": [
        {
          "output_type": "stream",
          "name": "stdout",
          "text": [
            "[1] 0.9437557\n",
            "[1] 0.05909289\n"
          ]
        }
      ]
    },
    {
      "cell_type": "markdown",
      "source": [
        "**We get 94.3% min-max accuracy in Linear Regression and Mean Absolute Percentage Error of 0.04%**"
      ],
      "metadata": {
        "id": "VifzQ5UV4Anz"
      }
    },
    {
      "cell_type": "code",
      "source": [
        "predict(Sem5, data.frame(SGPI.2 = 8.0, SGPI.3 = 8.0))"
      ],
      "metadata": {
        "colab": {
          "base_uri": "https://localhost:8080/",
          "height": 34
        },
        "id": "UK3t9v2TwSg8",
        "outputId": "4959a6be-38e6-4841-d95e-f855f3225f5b"
      },
      "execution_count": 149,
      "outputs": [
        {
          "output_type": "display_data",
          "data": {
            "text/html": [
              "<strong>1:</strong> 8.27305363077389"
            ],
            "text/markdown": "**1:** 8.27305363077389",
            "text/latex": "\\textbf{1:} 8.27305363077389",
            "text/plain": [
              "       1 \n",
              "8.273054 "
            ]
          },
          "metadata": {}
        }
      ]
    },
    {
      "cell_type": "markdown",
      "source": [
        "Explaination of output: If a student scores 8.0 SGPIs in two semesters, he/she will score 8.27 SGPI in next semester. This prediction is 94.3% accurate."
      ],
      "metadata": {
        "id": "01pabQyj3jai"
      }
    }
  ]
}